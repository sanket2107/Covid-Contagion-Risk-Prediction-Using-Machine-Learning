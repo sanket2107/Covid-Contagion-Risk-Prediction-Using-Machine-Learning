{
 "cells": [
  {
   "cell_type": "code",
   "execution_count": 1,
   "id": "429a111c",
   "metadata": {},
   "outputs": [],
   "source": [
    "import json\n",
    "import os\n",
    "import numpy as np\n",
    "import pandas as pd\n",
    "import matplotlib.pyplot as plt\n",
    "import seaborn as sns\n",
    "import plotly.express as px\n",
    "import tensorflow as tf\n",
    "\n",
    "from sklearn.preprocessing import MinMaxScaler\n",
    "from keras.models import Sequential\n",
    "from keras.layers import LSTM,Activation,Dense,Dropout\n",
    "%matplotlib inline\n",
    "scaler = MinMaxScaler()\n",
    "from keras.callbacks import EarlyStopping"
   ]
  },
  {
   "cell_type": "code",
   "execution_count": 2,
   "id": "c9729ec7",
   "metadata": {},
   "outputs": [],
   "source": [
    "data_path = 'all_total.json'\n",
    "f = open(data_path)\n",
    "data= json.load(f)\n",
    "total_cases_list =[]\n",
    "new_cases_list=[]\n",
    "pre_total_cases=0\n",
    "for row in data[\"rows\"]:\n",
    "    if \"total_confirmed_cases\" in row[\"key\"]:\n",
    "        temp_list =[]\n",
    "        temp_list.append(row[\"key\"][0][0:10])\n",
    "        temp_list.append(row[\"value\"])\n",
    "        total_cases_list.append(temp_list)\n",
    "        \n",
    "        temp_list_2=[]\n",
    "        temp_list_2.append(row[\"key\"][0][0:10])\n",
    "        temp_list_2.append(row[\"value\"]-pre_total_cases)\n",
    "        new_cases_list.append(temp_list_2)\n",
    "        \n",
    "        pre_total_cases=row[\"value\"]\n",
    "\n",
    "df_total =pd.DataFrame(total_cases_list,columns=[\"Date\",\"Total Cases\"])\n",
    "df_new = pd.DataFrame(new_cases_list,columns=[\"Date\",\"New Cases\"])"
   ]
  },
  {
   "cell_type": "code",
   "execution_count": 5,
   "id": "9b2eb01e",
   "metadata": {},
   "outputs": [
    {
     "ename": "AttributeError",
     "evalue": "'dict' object has no attribute 'shape'",
     "output_type": "error",
     "traceback": [
      "\u001b[1;31m---------------------------------------------------------------------------\u001b[0m",
      "\u001b[1;31mAttributeError\u001b[0m                            Traceback (most recent call last)",
      "\u001b[1;32m~\\AppData\\Local\\Temp\\ipykernel_14872\\3993293784.py\u001b[0m in \u001b[0;36m<module>\u001b[1;34m\u001b[0m\n\u001b[1;32m----> 1\u001b[1;33m \u001b[0mdata\u001b[0m\u001b[1;33m.\u001b[0m\u001b[0mshape\u001b[0m\u001b[1;33m\u001b[0m\u001b[1;33m\u001b[0m\u001b[0m\n\u001b[0m",
      "\u001b[1;31mAttributeError\u001b[0m: 'dict' object has no attribute 'shape'"
     ]
    }
   ],
   "source": []
  },
  {
   "cell_type": "code",
   "execution_count": null,
   "id": "01a979e6",
   "metadata": {},
   "outputs": [],
   "source": [
    "df_total"
   ]
  },
  {
   "cell_type": "code",
   "execution_count": null,
   "id": "fe12c48c",
   "metadata": {},
   "outputs": [],
   "source": [
    "df_new"
   ]
  },
  {
   "cell_type": "code",
   "execution_count": null,
   "id": "9db77633",
   "metadata": {},
   "outputs": [],
   "source": [
    "df_total=df_total.set_index(\"Date\")\n",
    "df_new = df_new.set_index(\"Date\")"
   ]
  },
  {
   "cell_type": "code",
   "execution_count": null,
   "id": "de45217b",
   "metadata": {},
   "outputs": [],
   "source": [
    "df_total"
   ]
  },
  {
   "cell_type": "code",
   "execution_count": null,
   "id": "32ffc235",
   "metadata": {},
   "outputs": [],
   "source": [
    "df_new\n"
   ]
  },
  {
   "cell_type": "code",
   "execution_count": null,
   "id": "623a8fb0",
   "metadata": {},
   "outputs": [],
   "source": [
    "#deleting two faulty values\n",
    "df_total.drop('2021-09-16', inplace=True, axis=0)\n",
    "df_total.drop('2021-09-17', inplace=True, axis=0)\n",
    "df_total.drop('2021-07-21', inplace=True, axis=0)\n",
    "df_total.drop('2021-07-22', inplace=True, axis=0)\n",
    "df_new.drop('2021-09-16', inplace=True, axis=0)\n",
    "df_new.drop('2021-09-17', inplace=True, axis=0)\n",
    "df_new.drop('2021-07-21', inplace=True, axis=0)\n",
    "df_new.drop('2021-07-22', inplace=True, axis=0)"
   ]
  },
  {
   "cell_type": "code",
   "execution_count": null,
   "id": "b6400f26",
   "metadata": {},
   "outputs": [],
   "source": [
    "df_new"
   ]
  },
  {
   "cell_type": "code",
   "execution_count": null,
   "id": "d7f53ff2",
   "metadata": {},
   "outputs": [],
   "source": [
    "df_total"
   ]
  },
  {
   "cell_type": "code",
   "execution_count": null,
   "id": "02de82b8",
   "metadata": {},
   "outputs": [],
   "source": [
    "day =90\n"
   ]
  },
  {
   "cell_type": "code",
   "execution_count": 6,
   "id": "4ae76b96",
   "metadata": {},
   "outputs": [
    {
     "ename": "ValueError",
     "evalue": "max() arg is an empty sequence",
     "output_type": "error",
     "traceback": [
      "\u001b[1;31m---------------------------------------------------------------------------\u001b[0m",
      "\u001b[1;31mValueError\u001b[0m                                Traceback (most recent call last)",
      "\u001b[1;32m~\\AppData\\Local\\Temp\\ipykernel_14872\\2413348419.py\u001b[0m in \u001b[0;36m<module>\u001b[1;34m\u001b[0m\n\u001b[0;32m     18\u001b[0m     \u001b[1;32mexcept\u001b[0m\u001b[1;33m:\u001b[0m\u001b[1;33m\u001b[0m\u001b[1;33m\u001b[0m\u001b[0m\n\u001b[0;32m     19\u001b[0m         \u001b[1;32mbreak\u001b[0m\u001b[1;33m\u001b[0m\u001b[1;33m\u001b[0m\u001b[0m\n\u001b[1;32m---> 20\u001b[1;33m \u001b[0mlength\u001b[0m \u001b[1;33m=\u001b[0m \u001b[0mmax\u001b[0m\u001b[1;33m(\u001b[0m\u001b[0mmap\u001b[0m\u001b[1;33m(\u001b[0m\u001b[0mlen\u001b[0m\u001b[1;33m,\u001b[0m \u001b[0mtrain_data\u001b[0m\u001b[1;33m)\u001b[0m\u001b[1;33m)\u001b[0m\u001b[1;33m\u001b[0m\u001b[1;33m\u001b[0m\u001b[0m\n\u001b[0m\u001b[0;32m     21\u001b[0m \u001b[0mtrain_data\u001b[0m\u001b[1;33m=\u001b[0m\u001b[0mnp\u001b[0m\u001b[1;33m.\u001b[0m\u001b[0marray\u001b[0m\u001b[1;33m(\u001b[0m\u001b[1;33m[\u001b[0m\u001b[0mxi\u001b[0m\u001b[1;33m+\u001b[0m\u001b[1;33m[\u001b[0m\u001b[1;32mNone\u001b[0m\u001b[1;33m]\u001b[0m\u001b[1;33m*\u001b[0m\u001b[1;33m(\u001b[0m\u001b[0mlength\u001b[0m\u001b[1;33m-\u001b[0m\u001b[0mlen\u001b[0m\u001b[1;33m(\u001b[0m\u001b[0mxi\u001b[0m\u001b[1;33m)\u001b[0m\u001b[1;33m)\u001b[0m \u001b[1;32mfor\u001b[0m \u001b[0mxi\u001b[0m \u001b[1;32min\u001b[0m \u001b[0mtrain_data\u001b[0m\u001b[1;33m]\u001b[0m\u001b[1;33m)\u001b[0m\u001b[1;33m.\u001b[0m\u001b[0mastype\u001b[0m\u001b[1;33m(\u001b[0m\u001b[1;34m'float32'\u001b[0m\u001b[1;33m)\u001b[0m\u001b[1;33m\u001b[0m\u001b[1;33m\u001b[0m\u001b[0m\n\u001b[0;32m     22\u001b[0m \u001b[0mlength\u001b[0m \u001b[1;33m=\u001b[0m \u001b[0mmax\u001b[0m\u001b[1;33m(\u001b[0m\u001b[0mmap\u001b[0m\u001b[1;33m(\u001b[0m\u001b[0mlen\u001b[0m\u001b[1;33m,\u001b[0m \u001b[0mtrain_labels\u001b[0m\u001b[1;33m)\u001b[0m\u001b[1;33m)\u001b[0m\u001b[1;33m\u001b[0m\u001b[1;33m\u001b[0m\u001b[0m\n",
      "\u001b[1;31mValueError\u001b[0m: max() arg is an empty sequence"
     ]
    }
   ],
   "source": [
    "k = 0\n",
    "array = []\n",
    "array_temp = []\n",
    "train_data = []\n",
    "train_labels = []\n",
    "for i in range(len(df_new)):\n",
    "    array_temp.append(df_new.iloc[i]['New Cases'])\n",
    "array_temp = np.array(array_temp).reshape(-1,1)\n",
    "array_temp = scaler.fit_transform(array_temp)\n",
    "array_temp = array_temp.tolist()\n",
    "for i in array_temp:\n",
    "    array.append(i[0])\n",
    "for i in range(len(array)):\n",
    "    try:\n",
    "        train_data.append(array[k:day+k]) # Creating inner lists with 'day' days of data\n",
    "        train_labels.append([array[day+k]])\n",
    "        k += 1\n",
    "    except:\n",
    "        break\n",
    "length = max(map(len, train_data))\n",
    "train_data=np.array([xi+[None]*(length-len(xi)) for xi in train_data]).astype('float32')\n",
    "length = max(map(len, train_labels))\n",
    "train_labels = np.array([xi+[None]*(length-len(xi)) for xi in train_labels]).astype('float32')"
   ]
  },
  {
   "cell_type": "code",
   "execution_count": null,
   "id": "487bb34e",
   "metadata": {},
   "outputs": [],
   "source": []
  }
 ],
 "metadata": {
  "kernelspec": {
   "display_name": "Python 3 (ipykernel)",
   "language": "python",
   "name": "python3"
  },
  "language_info": {
   "codemirror_mode": {
    "name": "ipython",
    "version": 3
   },
   "file_extension": ".py",
   "mimetype": "text/x-python",
   "name": "python",
   "nbconvert_exporter": "python",
   "pygments_lexer": "ipython3",
   "version": "3.9.13"
  }
 },
 "nbformat": 4,
 "nbformat_minor": 5
}
